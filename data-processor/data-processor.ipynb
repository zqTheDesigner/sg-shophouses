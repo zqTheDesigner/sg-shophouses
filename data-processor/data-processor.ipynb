{
 "cells": [
  {
   "cell_type": "code",
   "execution_count": 1,
   "id": "434c934c",
   "metadata": {},
   "outputs": [
    {
     "name": "stderr",
     "output_type": "stream",
     "text": [
      "/Users/qiaozhang/miniconda3/lib/python3.11/site-packages/pandas/core/arrays/masked.py:61: UserWarning: Pandas requires version '1.3.6' or newer of 'bottleneck' (version '1.3.5' currently installed).\n",
      "  from pandas.core import (\n"
     ]
    }
   ],
   "source": [
    "\n",
    "import pandas as pd\n",
    "import yaml\n",
    "import json\n",
    "from collections import defaultdict\n",
    "\n",
    "def combine_csv_yaml_to_json(csv_file, yaml_file, output_json_file, merge_key='nanyangSiteId'):\n",
    "    \"\"\"\n",
    "    Combine CSV and YAML files into a single JSON document based on a common key.\n",
    "    \n",
    "    Args:\n",
    "        csv_file (str): Path to the CSV file\n",
    "        yaml_file (str): Path to the YAML file\n",
    "        output_json_file (str): Path to save the output JSON file\n",
    "        merge_key (str): The key to use for merging the data\n",
    "    \"\"\"\n",
    "    try:\n",
    "        # Read CSV file with pandas\n",
    "        csv_data = pd.read_csv(csv_file, encoding='utf-8')\n",
    "        \n",
    "        # Read YAML file\n",
    "        with open(yaml_file, 'r', encoding='utf-8') as f:\n",
    "            yaml_data = yaml.safe_load(f)\n",
    "        \n",
    "        # Convert YAML data to a dictionary with merge_key as the key\n",
    "        yaml_dict = defaultdict(dict)\n",
    "        for item in yaml_data:\n",
    "            if merge_key in item:\n",
    "                key = item[merge_key]\n",
    "                yaml_dict[key] = item\n",
    "        \n",
    "        # Convert CSV data to dictionary format\n",
    "        csv_data.fillna('', inplace=True)  # Replace NaN with empty string\n",
    "        csv_records = csv_data.to_dict('records')\n",
    "        \n",
    "        # Combine the data\n",
    "        combined_data = []\n",
    "        for csv_record in csv_records:\n",
    "            if merge_key in csv_record:\n",
    "                key = csv_record[merge_key]\n",
    "                combined_record = csv_record.copy()\n",
    "                \n",
    "                # Add YAML data if key exists\n",
    "                if key in yaml_dict:\n",
    "                    combined_record.update(yaml_dict[key])\n",
    "                \n",
    "                combined_data.append(combined_record)\n",
    "        \n",
    "        # Save to JSON file with proper formatting\n",
    "        with open(output_json_file, 'w', encoding='utf-8') as f:\n",
    "            json.dump(combined_data, f, indent=4, ensure_ascii=False)\n",
    "        \n",
    "        print(f\"Successfully combined files and saved to {output_json_file}\")\n",
    "    \n",
    "    except Exception as e:\n",
    "        print(f\"An error occurred: {str(e)}\")\n",
    "\n"
   ]
  },
  {
   "cell_type": "code",
   "execution_count": 6,
   "id": "da9ab4cf",
   "metadata": {},
   "outputs": [
    {
     "name": "stdout",
     "output_type": "stream",
     "text": [
      "Successfully combined files and saved to ./03-keramatShrines.json\n"
     ]
    },
    {
     "name": "stderr",
     "output_type": "stream",
     "text": [
      "/var/folders/bq/df5l25m5389gxcql8x_kd8zc0000gn/T/ipykernel_41842/402960068.py:32: FutureWarning: Setting an item of incompatible dtype is deprecated and will raise an error in a future version of pandas. Value '' has dtype incompatible with float64, please explicitly cast to a compatible dtype first.\n",
      "  csv_data.fillna('', inplace=True)  # Replace NaN with empty string\n"
     ]
    }
   ],
   "source": [
    "combine_csv_yaml_to_json('./03-keramatShrines.csv', './03-keramatShrines.yaml', './03-keramatShrines.json')"
   ]
  }
 ],
 "metadata": {
  "kernelspec": {
   "display_name": "demand-forecasting-new",
   "language": "python",
   "name": "demand-forecasting-new"
  },
  "language_info": {
   "codemirror_mode": {
    "name": "ipython",
    "version": 3
   },
   "file_extension": ".py",
   "mimetype": "text/x-python",
   "name": "python",
   "nbconvert_exporter": "python",
   "pygments_lexer": "ipython3",
   "version": "3.11.5"
  }
 },
 "nbformat": 4,
 "nbformat_minor": 5
}
