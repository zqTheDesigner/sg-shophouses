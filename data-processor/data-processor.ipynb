{
 "cells": [
  {
   "cell_type": "code",
   "execution_count": null,
   "id": "434c934c",
   "metadata": {},
   "outputs": [
    {
     "name": "stderr",
     "output_type": "stream",
     "text": [
      "/Users/qiaozhang/miniconda3/lib/python3.11/site-packages/pandas/core/arrays/masked.py:61: UserWarning: Pandas requires version '1.3.6' or newer of 'bottleneck' (version '1.3.5' currently installed).\n",
      "  from pandas.core import (\n"
     ]
    }
   ],
   "source": [
    "# combine_csv_yaml_to_json('./03-keramatShrines.csv', './03-keramatShrines.yaml', './03-keramatShrines.json')\n",
    "\n"
   ]
  },
  {
   "cell_type": "code",
   "execution_count": 7,
   "id": "da9ab4cf",
   "metadata": {},
   "outputs": [],
   "source": [
    "import pandas as pd\n",
    "import json\n",
    "\n",
    "def csv_to_json(csv_file_path, json_file_path, orient='records'):\n",
    "    \"\"\"\n",
    "    Convert a CSV file to JSON using pandas to maintain data types.\n",
    "    \n",
    "    Args:\n",
    "        csv_file_path (str): Path to the input CSV file\n",
    "        json_file_path (str): Path to save the output JSON file\n",
    "        orient (str): Format of JSON output ('records', 'split', 'index', 'columns', 'values')\n",
    "                     Default 'records' creates list of {column: value} pairs\n",
    "    \"\"\"\n",
    "    # Read CSV file with pandas (auto-detects data types)\n",
    "    df = pd.read_csv(csv_file_path)\n",
    "    \n",
    "    # Convert to JSON with proper data types\n",
    "    json_data = df.to_json(json_file_path, orient=orient, indent=4, date_format='iso')\n",
    "    \n",
    "    print(f\"Successfully converted {csv_file_path} to {json_file_path}\")\n",
    "    return json_data"
   ]
  },
  {
   "cell_type": "code",
   "execution_count": 8,
   "id": "f8f73dc1",
   "metadata": {},
   "outputs": [
    {
     "name": "stdout",
     "output_type": "stream",
     "text": [
      "Successfully converted ./united-temples.csv to ./united-temples.json\n"
     ]
    }
   ],
   "source": [
    "csv_to_json('./united-temples.csv', './united-temples.json')"
   ]
  },
  {
   "cell_type": "code",
   "execution_count": null,
   "id": "cda5b7f9",
   "metadata": {},
   "outputs": [],
   "source": []
  }
 ],
 "metadata": {
  "kernelspec": {
   "display_name": "Python 3",
   "language": "python",
   "name": "python3"
  },
  "language_info": {
   "codemirror_mode": {
    "name": "ipython",
    "version": 3
   },
   "file_extension": ".py",
   "mimetype": "text/x-python",
   "name": "python",
   "nbconvert_exporter": "python",
   "pygments_lexer": "ipython3",
   "version": "3.9.6"
  }
 },
 "nbformat": 4,
 "nbformat_minor": 5
}
